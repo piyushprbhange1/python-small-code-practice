{
 "cells": [
  {
   "cell_type": "code",
   "execution_count": 5,
   "metadata": {},
   "outputs": [
    {
     "name": "stdout",
     "output_type": "stream",
     "text": [
      "enter any no14\n",
      "3\n",
      "no is not prime\n"
     ]
    }
   ],
   "source": [
    "import math\n",
    "a=int(input(\"enter any no\"))\n",
    "no=a\n",
    "a=math.trunc(math.sqrt(a))\n",
    "print(a)\n",
    "for i in range(2,a,1):\n",
    "    if no%i==0:\n",
    "        print(\"no is not prime\")\n",
    "        exit\n",
    "    else:\n",
    "        print(\"no is  prime\")\n",
    "        \n",
    "    "
   ]
  },
  {
   "cell_type": "code",
   "execution_count": null,
   "metadata": {},
   "outputs": [],
   "source": []
  }
 ],
 "metadata": {
  "kernelspec": {
   "display_name": "Python 3",
   "language": "python",
   "name": "python3"
  },
  "language_info": {
   "codemirror_mode": {
    "name": "ipython",
    "version": 3
   },
   "file_extension": ".py",
   "mimetype": "text/x-python",
   "name": "python",
   "nbconvert_exporter": "python",
   "pygments_lexer": "ipython3",
   "version": "3.8.5"
  }
 },
 "nbformat": 4,
 "nbformat_minor": 4
}
